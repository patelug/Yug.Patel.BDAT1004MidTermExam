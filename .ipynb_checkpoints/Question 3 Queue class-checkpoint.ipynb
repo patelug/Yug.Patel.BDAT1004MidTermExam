{
 "cells": [
  {
   "cell_type": "code",
   "execution_count": 6,
   "id": "db05f503",
   "metadata": {},
   "outputs": [],
   "source": [
    "#Question 23\n",
    "\n",
    "import collections\n",
    "\n",
    "class FullQueueError(Exception):\n",
    "    pass\n",
    "\n",
    "class Queue:\n",
    "    'a classic queue class with max size 4'\n",
    "    MAX_SIZE = 4\n",
    "\n",
    "    def __init__(self):\n",
    "        'instantiates an empty deque'\n",
    "        self.q = collections.deque(maxlen=self.MAX_SIZE)\n",
    "\n",
    "    def isEmpty(self):\n",
    "        'returns True if queue is empty, False otherwise'\n",
    "        return not bool(self.q)\n",
    "\n",
    "    def enqueue(self, item):\n",
    "        'insert item at rear of queue'\n",
    "        if len(self.q) >= self.MAX_SIZE:\n",
    "            raise FullQueueError('enqueue on full queue')\n",
    "        return self.q.append(item)\n",
    "\n",
    "    def dequeue(self):\n",
    "        'remove and return item at front of queue'\n",
    "        if self.isEmpty():\n",
    "            raise EmptyQueueError('dequeue from empty queue')\n",
    "        return self.q.popleft()\n",
    "\n",
    "    def dequeueMultiple(self, n):\n",
    "        'remove the first n elements from the queue'\n",
    "        if n > len(self.q):\n",
    "            raise InsufficientElementsInQueueError('dequeue more elements than available')\n",
    "        removed = list(self.q)[:n]\n",
    "        self.q.clear()\n",
    "        self.q.extendleft(removed)\n",
    "        return removed\n",
    "\n",
    "    def __add__(self, other):\n",
    "        'addition operator between two queues'\n",
    "        if not isinstance(other, Queue):\n",
    "            raise TypeError('can only add Queue to Queue')\n",
    "\n",
    "        new_queue = Queue()\n",
    "        new_queue.q = collections.deque(list(self.q) + list(other.q), maxlen=new_queue.MAX_SIZE)\n",
    "        return new_queue"
   ]
  },
  {
   "cell_type": "code",
   "execution_count": 8,
   "id": "7304a97e",
   "metadata": {},
   "outputs": [
    {
     "name": "stdout",
     "output_type": "stream",
     "text": [
      "deque([30, 40, 50, 60], maxlen=4)\n"
     ]
    }
   ],
   "source": [
    "q1 = Queue()\n",
    "q1.enqueue(10)\n",
    "q1.enqueue(20)\n",
    "q1.enqueue(30)\n",
    "\n",
    "q2 = Queue()\n",
    "q2.enqueue(40)\n",
    "q2.enqueue(50)\n",
    "q2.enqueue(60)\n",
    "\n",
    "q3 = q1 + q2\n",
    "print(q3.q)"
   ]
  },
  {
   "cell_type": "code",
   "execution_count": null,
   "id": "249dfeee",
   "metadata": {},
   "outputs": [],
   "source": []
  }
 ],
 "metadata": {
  "kernelspec": {
   "display_name": "Python 3 (ipykernel)",
   "language": "python",
   "name": "python3"
  },
  "language_info": {
   "codemirror_mode": {
    "name": "ipython",
    "version": 3
   },
   "file_extension": ".py",
   "mimetype": "text/x-python",
   "name": "python",
   "nbconvert_exporter": "python",
   "pygments_lexer": "ipython3",
   "version": "3.11.5"
  }
 },
 "nbformat": 4,
 "nbformat_minor": 5
}
