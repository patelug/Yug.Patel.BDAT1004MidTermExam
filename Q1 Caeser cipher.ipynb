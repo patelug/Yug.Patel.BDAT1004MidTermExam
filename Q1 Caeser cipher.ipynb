{
 "cells": [
  {
   "cell_type": "code",
   "execution_count": 1,
   "id": "e27ad88c",
   "metadata": {},
   "outputs": [],
   "source": [
    "#Question 21 Caeser cipher\n",
    "\n",
    "def caeser(phrase, shift):\n",
    "    result = \"\"\n",
    "    for char in phrase:\n",
    "        if char.isalpha():\n",
    "            shifted = ord(char) + shift\n",
    "            if char.islower():\n",
    "                if shifted > ord('z'):\n",
    "                    shifted -= 26\n",
    "                result += chr(shifted)\n",
    "            elif char.isupper():\n",
    "                if shifted > ord('Z'):\n",
    "                    shifted -= 26\n",
    "                result += chr(shifted)\n",
    "        else:\n",
    "            result += char\n",
    "    return result"
   ]
  },
  {
   "cell_type": "code",
   "execution_count": 2,
   "id": "66a03444",
   "metadata": {},
   "outputs": [
    {
     "name": "stdout",
     "output_type": "stream",
     "text": [
      "Qpubup\n"
     ]
    }
   ],
   "source": [
    "print(caeser(\"Potato\", 1))"
   ]
  },
  {
   "cell_type": "code",
   "execution_count": 3,
   "id": "295ef445",
   "metadata": {},
   "outputs": [
    {
     "name": "stdout",
     "output_type": "stream",
     "text": [
      "K nqxg DFCV!\n"
     ]
    }
   ],
   "source": [
    "print(caeser(\"I love BDAT!\", 2))"
   ]
  },
  {
   "cell_type": "code",
   "execution_count": null,
   "id": "7e39f3bc",
   "metadata": {},
   "outputs": [],
   "source": []
  }
 ],
 "metadata": {
  "kernelspec": {
   "display_name": "Python 3 (ipykernel)",
   "language": "python",
   "name": "python3"
  },
  "language_info": {
   "codemirror_mode": {
    "name": "ipython",
    "version": 3
   },
   "file_extension": ".py",
   "mimetype": "text/x-python",
   "name": "python",
   "nbconvert_exporter": "python",
   "pygments_lexer": "ipython3",
   "version": "3.11.5"
  }
 },
 "nbformat": 4,
 "nbformat_minor": 5
}
